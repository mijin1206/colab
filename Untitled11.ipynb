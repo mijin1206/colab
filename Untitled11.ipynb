{
  "nbformat": 4,
  "nbformat_minor": 0,
  "metadata": {
    "colab": {
      "provenance": [],
      "authorship_tag": "ABX9TyPQo3RApuWg2QEPpzb+NvRr",
      "include_colab_link": true
    },
    "kernelspec": {
      "name": "python3",
      "display_name": "Python 3"
    },
    "language_info": {
      "name": "python"
    }
  },
  "cells": [
    {
      "cell_type": "markdown",
      "metadata": {
        "id": "view-in-github",
        "colab_type": "text"
      },
      "source": [
        "<a href=\"https://colab.research.google.com/github/mijin1206/colab/blob/main/Untitled11.ipynb\" target=\"_parent\"><img src=\"https://colab.research.google.com/assets/colab-badge.svg\" alt=\"Open In Colab\"/></a>"
      ]
    },
    {
      "cell_type": "code",
      "execution_count": null,
      "metadata": {
        "colab": {
          "base_uri": "https://localhost:8080/"
        },
        "id": "ooQNq_o2lMci",
        "outputId": "9680f4d6-a6ec-4c44-e55b-431ced5fcf6e"
      },
      "outputs": [
        {
          "output_type": "stream",
          "name": "stdout",
          "text": [
            "1234\n"
          ]
        }
      ],
      "source": [
        "n = 1234\n",
        "print(str(n))"
      ]
    },
    {
      "cell_type": "code",
      "source": [
        "list(map(int, str(n)))"
      ],
      "metadata": {
        "colab": {
          "base_uri": "https://localhost:8080/"
        },
        "id": "81ce7f5QlrXT",
        "outputId": "594bbabc-266d-4b5a-b0da-efee3ac25e83"
      },
      "execution_count": null,
      "outputs": [
        {
          "output_type": "execute_result",
          "data": {
            "text/plain": [
              "[1, 2, 3, 4]"
            ]
          },
          "metadata": {},
          "execution_count": 5
        }
      ]
    },
    {
      "cell_type": "code",
      "source": [
        "print(map(int, str(n)))"
      ],
      "metadata": {
        "colab": {
          "base_uri": "https://localhost:8080/"
        },
        "id": "yyWZYOaFlydC",
        "outputId": "d49f0c38-ce03-4945-f213-37a0bd339624"
      },
      "execution_count": null,
      "outputs": [
        {
          "output_type": "stream",
          "name": "stdout",
          "text": [
            "<map object at 0x7d1313d48dc0>\n"
          ]
        }
      ]
    },
    {
      "cell_type": "code",
      "source": [
        "sum(map(int, str(n)))"
      ],
      "metadata": {
        "colab": {
          "base_uri": "https://localhost:8080/"
        },
        "id": "oTBnrKoxl3yj",
        "outputId": "c92be968-9be9-41b5-9db1-5c261522b491"
      },
      "execution_count": null,
      "outputs": [
        {
          "output_type": "execute_result",
          "data": {
            "text/plain": [
              "10"
            ]
          },
          "metadata": {},
          "execution_count": 4
        }
      ]
    },
    {
      "cell_type": "code",
      "source": [
        "n = \"We\"\n",
        "len(list(map(str, n)))"
      ],
      "metadata": {
        "colab": {
          "base_uri": "https://localhost:8080/"
        },
        "id": "jFjNO0r7l7j0",
        "outputId": "4c5f8676-5e9e-47f8-c7ee-2662eb1fc21f"
      },
      "execution_count": null,
      "outputs": [
        {
          "output_type": "execute_result",
          "data": {
            "text/plain": [
              "2"
            ]
          },
          "metadata": {},
          "execution_count": 10
        }
      ]
    },
    {
      "cell_type": "code",
      "source": [
        "def solution(strlist):\n",
        "  answer = list(map(len, strlist))\n",
        "  return answer"
      ],
      "metadata": {
        "id": "CCukESblzTwq"
      },
      "execution_count": null,
      "outputs": []
    },
    {
      "cell_type": "code",
      "source": [
        "n = [1,2,3,4,5,6]"
      ],
      "metadata": {
        "id": "bU0qHqKS6UId"
      },
      "execution_count": null,
      "outputs": []
    },
    {
      "cell_type": "code",
      "source": [
        "def solution(n, numlist):\n",
        "  return list(filter(lambda v : v %n == 0, numlist))\n",
        "  #filter(함수, 리스트)\n",
        "  #lambda 변수 : 식 = 함수\n",
        "  #map + lambda 는 느림"
      ],
      "metadata": {
        "id": "ftuM8_rt665e"
      },
      "execution_count": null,
      "outputs": []
    },
    {
      "cell_type": "code",
      "source": [
        "def solution(str1, str2):\n",
        "  return 1 if str2 in str1 else 2"
      ],
      "metadata": {
        "id": "0C2dQcgn9aXa"
      },
      "execution_count": null,
      "outputs": []
    },
    {
      "cell_type": "code",
      "source": [],
      "metadata": {
        "id": "G2BMAEq8GB8w"
      },
      "execution_count": null,
      "outputs": []
    }
  ]
}